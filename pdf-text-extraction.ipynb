{
 "cells": [
  {
   "cell_type": "markdown",
   "metadata": {},
   "source": [
    "# Whitepaper Text Extraction"
   ]
  },
  {
   "cell_type": "code",
   "execution_count": 1,
   "metadata": {},
   "outputs": [],
   "source": [
    "import pandas as pd\n",
    "import json\n",
    "import re\n",
    "from pandas.io.json import json_normalize\n",
    "from os import listdir"
   ]
  },
  {
   "cell_type": "markdown",
   "metadata": {},
   "source": [
    "## Initialisierung"
   ]
  },
  {
   "cell_type": "markdown",
   "metadata": {},
   "source": [
    "### Abfrage der Vision API"
   ]
  },
  {
   "cell_type": "code",
   "execution_count": 2,
   "metadata": {},
   "outputs": [
    {
     "name": "stdout",
     "output_type": "stream",
     "text": [
      "{\n",
      "  \"name\": \"projects/mastertradr-48fc5/operations/8db64411744dce11\"\n",
      "}\n"
     ]
    }
   ],
   "source": [
    "!gcloud ml vision detect-text-pdf \"gs://mastertradr-pdf-extraction/2/Blockchain_WhitePaper_Grundlagen-Anwendungen-Potentiale.pdf\" gs://mastertradr-pdf-extraction/2/"
   ]
  },
  {
   "cell_type": "markdown",
   "metadata": {},
   "source": [
    "### Kopieren der JSON-Outputs in lokales Verzeichnis"
   ]
  },
  {
   "cell_type": "code",
   "execution_count": null,
   "metadata": {},
   "outputs": [],
   "source": [
    "# Check if documents exist\n",
    "!gsutil ls -r gs://mastertradr-pdf-extraction/2/**"
   ]
  },
  {
   "cell_type": "code",
   "execution_count": null,
   "metadata": {},
   "outputs": [],
   "source": [
    "!gsutil cp -r gs://mastertradr-pdf-extraction/2/* 2"
   ]
  },
  {
   "cell_type": "markdown",
   "metadata": {},
   "source": [
    "### Lade JSON Objekt"
   ]
  },
  {
   "cell_type": "code",
   "execution_count": 3,
   "metadata": {},
   "outputs": [],
   "source": [
    "files = listdir('2')\n",
    "json_files = list(filter(lambda x: x.endswith(\".json\"), files))\n",
    "json_files.sort()\n",
    "pdf_files = list(filter(lambda x: x.endswith(\".pdf\"), files))[0]"
   ]
  },
  {
   "cell_type": "code",
   "execution_count": 4,
   "metadata": {},
   "outputs": [],
   "source": [
    "pdf_content_json = json.load(open('2/'+json_files[0]))"
   ]
  },
  {
   "cell_type": "markdown",
   "metadata": {},
   "source": [
    "## Processing JSON"
   ]
  },
  {
   "cell_type": "markdown",
   "metadata": {},
   "source": [
    "### Abmessungen der Seiten im Dokument"
   ]
  },
  {
   "cell_type": "code",
   "execution_count": 7,
   "metadata": {},
   "outputs": [],
   "source": [
    "# Wieviele Seiten?\n",
    "page_count = len(pdf_content_json['responses'])"
   ]
  },
  {
   "cell_type": "code",
   "execution_count": 8,
   "metadata": {},
   "outputs": [],
   "source": [
    "# Wie groß ist jede Seite?\n",
    "cols = ['height', 'width', 'page']\n",
    "data = [] \n",
    "\n",
    "for page in range(page_count):\n",
    "    path = pdf_content_json['responses'][page]['fullTextAnnotation']['pages']\n",
    "    vals = json_normalize(path)[['height', 'width']].values.tolist()[0]\n",
    "    vals.append(page)\n",
    "    data.append(dict(zip(cols, vals)))\n",
    "    \n",
    "page_dimensions_df = pd.DataFrame(data)\n",
    "#page_dimensions_df"
   ]
  },
  {
   "cell_type": "markdown",
   "metadata": {},
   "source": [
    "## Umfang: Wie viele Elemente sind auf jeder Seite?"
   ]
  },
  {
   "cell_type": "markdown",
   "metadata": {},
   "source": [
    "### Wieviele Textblöcke (Blocks) pro Seite"
   ]
  },
  {
   "cell_type": "code",
   "execution_count": 9,
   "metadata": {},
   "outputs": [],
   "source": [
    "# Wie viele Blöcke pro Seite?\n",
    "data = []\n",
    "cols = ['block_count', 'page']\n",
    "\n",
    "for page in range(page_count):\n",
    "    path = pdf_content_json['responses'][page]['fullTextAnnotation']['pages'][0]['blocks']\n",
    "    vals = [len(path)]\n",
    "    vals.append(page)\n",
    "    data.append(dict(zip(cols, vals)))\n",
    "    \n",
    "block_counts_df = pd.DataFrame(data)\n",
    "#block_counts_df"
   ]
  },
  {
   "cell_type": "markdown",
   "metadata": {},
   "source": [
    "### Wieviele Paragraphen pro Block pro Seite?"
   ]
  },
  {
   "cell_type": "code",
   "execution_count": 10,
   "metadata": {},
   "outputs": [],
   "source": [
    "# Wie viele Paragraphen pro Block Seite?\n",
    "data = []\n",
    "cols = ['paragraph_count','block_count', 'page']\n",
    "\n",
    "for page in range(page_count):\n",
    "    for block in range(block_counts_df.query('page == ' + str(page))['block_count'].values[0]):\n",
    "        path = pdf_content_json['responses'][page]['fullTextAnnotation']['pages'][0]['blocks'][block]['paragraphs']\n",
    "        vals = [len(path)]\n",
    "        vals.append(block)\n",
    "        vals.append(page)\n",
    "        data.append(dict(zip(cols, vals)))\n",
    "    \n",
    "paragraph_counts_df = pd.DataFrame(data)\n",
    "#paragraph_counts_df"
   ]
  },
  {
   "cell_type": "markdown",
   "metadata": {},
   "source": [
    "### Wieviele Wörter pro Paragraph pro Block pro Seite?"
   ]
  },
  {
   "cell_type": "code",
   "execution_count": 11,
   "metadata": {},
   "outputs": [],
   "source": [
    "# Wie viele Wörter pro Paragraphen pro Block pro Seite?\n",
    "data = []\n",
    "cols = ['word_count', 'paragraph','block', 'page']\n",
    "\n",
    "for page in range(page_count):\n",
    "    for block in range(block_counts_df.loc[page,'block_count']):\n",
    "        for paragraph in range(paragraph_counts_df.query( ('page == ' + str(page) + (' & block_count == ' + str(block))))['paragraph_count'].values[0]):\n",
    "            path = pdf_content_json['responses'][page]['fullTextAnnotation']['pages'][0]['blocks'][block]['paragraphs'][paragraph]['words']\n",
    "            vals = [len(path)]\n",
    "            vals.append(paragraph)\n",
    "            vals.append(block)\n",
    "            vals.append(page)\n",
    "            data.append(dict(zip(cols, vals)))\n",
    "    \n",
    "word_counts_df = pd.DataFrame(data)\n",
    "#word_counts_df"
   ]
  },
  {
   "cell_type": "markdown",
   "metadata": {},
   "source": [
    "## Eigenschaften der Textkörper"
   ]
  },
  {
   "cell_type": "markdown",
   "metadata": {},
   "source": [
    "### Eigenschaften aller Textblöcke (Koordinaten, Konfidenz)"
   ]
  },
  {
   "cell_type": "code",
   "execution_count": 12,
   "metadata": {},
   "outputs": [],
   "source": [
    "# Wie sind die Abmessungen jedes Blocks pro Seite?\n",
    "# Beispiel-Output\n",
    "page = 0\n",
    "block = 1\n",
    "path = pdf_content_json['responses'][page]['fullTextAnnotation']['pages'][0]['blocks'][block]['boundingBox']['normalizedVertices'][:4]\n",
    "#path"
   ]
  },
  {
   "cell_type": "code",
   "execution_count": 13,
   "metadata": {},
   "outputs": [],
   "source": [
    "# Mit Konfidenz\n",
    "path_normalized = json_normalize(pdf_content_json['responses'][page]['fullTextAnnotation']['pages'][0]['blocks'][block], ['boundingBox', 'normalizedVertices'], meta = 'confidence')\n",
    "#path_normalized"
   ]
  },
  {
   "cell_type": "code",
   "execution_count": 14,
   "metadata": {},
   "outputs": [],
   "source": [
    "# Beispiel für ein einzelnes flaches Objekt:\n",
    "\n",
    "path = json_normalize(pdf_content_json['responses'][page]['fullTextAnnotation']['pages'][0]['blocks'][block], ['boundingBox', 'normalizedVertices'], meta = 'confidence')\n",
    "\n",
    "confidence = path['confidence'].drop_duplicates().item()\n",
    "data = path.reset_index(drop = True).drop('confidence', axis = 1)\n",
    "\n",
    "data['position'] = data.index+1\n",
    "data = data.melt(id_vars=['position'])\n",
    "data['position'] = data['variable'] + data['position'].map(str) + '-block'\n",
    "\n",
    "data['block'] = block\n",
    "\n",
    "data = data.pivot(index = 'block', columns = 'position', values = 'value')\n",
    "data['confidence-block'] = confidence\n",
    "\n",
    "#data"
   ]
  },
  {
   "cell_type": "code",
   "execution_count": 15,
   "metadata": {},
   "outputs": [],
   "source": [
    "# Loop durch alle Blöcke im Dokument. Output = Seite, Block-Nummer, Block-Koordinaten und Confidence\n",
    "blocks_on_pages_df = []\n",
    "cols = ['x1-block', 'x2-block', 'x3-block', 'x4-block','y1-block', 'y2-block','y3-block', 'y4-block', 'confidence', 'block', 'page']\n",
    "\n",
    "for page in range(page_count):\n",
    "    for block in range(block_counts_df.loc[page,'block_count']):\n",
    "        path = json_normalize(pdf_content_json['responses'][page]['fullTextAnnotation']['pages'][0]['blocks'][block], ['boundingBox', 'normalizedVertices'], meta = 'confidence')\n",
    "        confidence = path['confidence'].drop_duplicates().item()\n",
    "        data = path.reset_index(drop = True).drop('confidence', axis = 1)\n",
    "        data['position'] = data.index\n",
    "        data = data.melt(id_vars=['position'])\n",
    "        data['position'] = data['variable'] + data['position'].map(str) + '-block'\n",
    "        data['block'] = block\n",
    "        data = data.pivot(index = 'block', columns = 'position', values = 'value')\n",
    "        data['confidence-block'] = confidence\n",
    "\n",
    "        vals = data.values.tolist()[0]\n",
    "        vals.append(block)\n",
    "        vals.append(page)\n",
    "        blocks_on_pages_df.append(dict(zip(cols, vals)))\n",
    "\n",
    "blocks_on_pages_df = pd.DataFrame(blocks_on_pages_df)\n",
    "#blocks_on_pages_df"
   ]
  },
  {
   "cell_type": "markdown",
   "metadata": {},
   "source": [
    "### Extrahieren der Wörter aus den Paragraphen"
   ]
  },
  {
   "cell_type": "code",
   "execution_count": 16,
   "metadata": {},
   "outputs": [],
   "source": [
    "def text_from_paragraph(page, block, paragraph, word_count):\n",
    "    \"Concatenates all text symbols to word elements to a text within a given paragraph\"\n",
    "    \n",
    "    paragraph_text = []\n",
    "    \n",
    "    for word in range(word_count):\n",
    "        path = pdf_content_json['responses'][page]['fullTextAnnotation']['pages'][0]['blocks'][block]['paragraphs'][paragraph]['words'][word]\n",
    "        word_str = json_normalize(path, 'symbols')['text'].str.cat()\n",
    "        paragraph_text.append(word_str)\n",
    "    \n",
    "    paragraph_text = ' '.join(paragraph_text)\n",
    "    paragraph_text = re.sub(\" \\\\. \", \". \", paragraph_text) # Fix me! Use Regex instead\n",
    "    paragraph_text = re.sub(\" \\\\.\", \".\", paragraph_text)\n",
    "    paragraph_text = re.sub(\" , \", \", \", paragraph_text)\n",
    "    paragraph_text = re.sub(\" ! \", \"! \", paragraph_text)\n",
    "    paragraph_text = re.sub(\" \\\\? \", \"? \", paragraph_text)\n",
    "    paragraph_text = re.sub(\" ' \", \"`\", paragraph_text)\n",
    "    paragraph_text = re.sub(\" - \", \"-\", paragraph_text)\n",
    "    paragraph_text = re.sub(\" \\\\( \", \" (\", paragraph_text)\n",
    "    paragraph_text = re.sub(\" \\\\) \", \") \", paragraph_text)\n",
    "    paragraph_text = re.sub(\"\\\\.\", \". \", paragraph_text)\n",
    "    paragraph_text = re.sub(\"\\\\.  \", \". \", paragraph_text)\n",
    "\n",
    "    \n",
    "    return(paragraph_text)\n"
   ]
  },
  {
   "cell_type": "code",
   "execution_count": 17,
   "metadata": {},
   "outputs": [],
   "source": [
    "# Text aus jedem Paragraphen extrahieren\n",
    "data = []\n",
    "cols = ['text', 'paragraph','block', 'page']\n",
    "\n",
    "for page in range(page_count):\n",
    "    for block in range(block_counts_df.loc[page,'block_count']):\n",
    "        for paragraph in range(paragraph_counts_df.query( ('page == ' + str(page) + (' & block_count == ' + str(block))))['paragraph_count'].values[0]):\n",
    "                word_count = word_counts_df.query( ('page == ' + str(page) + (' & block == ' + str(block) + (' & paragraph == ' + str(paragraph)))))['word_count'].values[0]\n",
    "                vals = [text_from_paragraph(page, block, paragraph, word_count)]\n",
    "                vals.append(paragraph)\n",
    "                vals.append(block)\n",
    "                vals.append(page)\n",
    "                data.append(dict(zip(cols, vals)))\n",
    "    \n",
    "text_df = pd.DataFrame(data)\n",
    "#text_df"
   ]
  },
  {
   "cell_type": "markdown",
   "metadata": {},
   "source": [
    "### Join everything together"
   ]
  },
  {
   "cell_type": "code",
   "execution_count": 18,
   "metadata": {},
   "outputs": [],
   "source": [
    "document_text = pd.merge(text_df, blocks_on_pages_df, on = ['page', 'block'])\n",
    "document_text = pd.merge(document_text, page_dimensions_df, on = 'page')"
   ]
  },
  {
   "cell_type": "markdown",
   "metadata": {},
   "source": [
    "## Feature Engineering"
   ]
  },
  {
   "cell_type": "code",
   "execution_count": 19,
   "metadata": {},
   "outputs": [],
   "source": [
    "def is_content_area(x1, x2, x3, x4, y1, y2, y3, y4):\n",
    "    if ( (x1 > 0.05) & (x4 > 0.05) & (y1 > 0.05) & (y4 < 0.9) ):\n",
    "        return(True)\n",
    "    else:\n",
    "        return(False)\n",
    "    "
   ]
  },
  {
   "cell_type": "code",
   "execution_count": 20,
   "metadata": {},
   "outputs": [],
   "source": [
    "document_text['block_height'] = round( (document_text['y4-block']*document_text['height']) - (document_text['y1-block']*document_text['height']), 2 )\n",
    "document_text['block_width'] = round( (document_text['x2-block']*document_text['width']) - (document_text['x1-block']*document_text['width']), 2 )\n",
    "document_text['block_area'] = (document_text['block_width'] * document_text['block_height']) / (document_text['width'] * document_text['height'])*100\n",
    "\n",
    "document_text['text_length'] = document_text.apply( lambda row: len(row['text']), axis = 1)\n",
    "\n",
    "document_text['font_size'] = document_text['block_area'] / document_text['text_length']\n",
    "\n",
    "document_text['block_is_content'] = document_text.apply( lambda row: is_content_area(*row[['x1-block', 'x2-block', 'x3-block', 'x4-block', 'y1-block', 'y2-block', 'y3-block', 'y4-block']]), axis = 1)"
   ]
  },
  {
   "cell_type": "code",
   "execution_count": 21,
   "metadata": {},
   "outputs": [
    {
     "data": {
      "text/html": [
       "<div>\n",
       "<style scoped>\n",
       "    .dataframe tbody tr th:only-of-type {\n",
       "        vertical-align: middle;\n",
       "    }\n",
       "\n",
       "    .dataframe tbody tr th {\n",
       "        vertical-align: top;\n",
       "    }\n",
       "\n",
       "    .dataframe thead th {\n",
       "        text-align: right;\n",
       "    }\n",
       "</style>\n",
       "<table border=\"1\" class=\"dataframe\">\n",
       "  <thead>\n",
       "    <tr style=\"text-align: right;\">\n",
       "      <th></th>\n",
       "      <th>block</th>\n",
       "      <th>page</th>\n",
       "      <th>paragraph</th>\n",
       "      <th>text</th>\n",
       "      <th>confidence</th>\n",
       "      <th>x1-block</th>\n",
       "      <th>x2-block</th>\n",
       "      <th>x3-block</th>\n",
       "      <th>x4-block</th>\n",
       "      <th>y1-block</th>\n",
       "      <th>...</th>\n",
       "      <th>y3-block</th>\n",
       "      <th>y4-block</th>\n",
       "      <th>height</th>\n",
       "      <th>width</th>\n",
       "      <th>block_height</th>\n",
       "      <th>block_width</th>\n",
       "      <th>block_area</th>\n",
       "      <th>text_length</th>\n",
       "      <th>font_size</th>\n",
       "      <th>block_is_content</th>\n",
       "    </tr>\n",
       "  </thead>\n",
       "  <tbody>\n",
       "    <tr>\n",
       "      <th>0</th>\n",
       "      <td>0</td>\n",
       "      <td>0</td>\n",
       "      <td>0</td>\n",
       "      <td>7 Fraunhofer</td>\n",
       "      <td>0.92</td>\n",
       "      <td>0.070588</td>\n",
       "      <td>0.467227</td>\n",
       "      <td>0.467227</td>\n",
       "      <td>0.070588</td>\n",
       "      <td>0.036861</td>\n",
       "      <td>...</td>\n",
       "      <td>0.098692</td>\n",
       "      <td>0.098692</td>\n",
       "      <td>841</td>\n",
       "      <td>595</td>\n",
       "      <td>52.0</td>\n",
       "      <td>236.0</td>\n",
       "      <td>2.452463</td>\n",
       "      <td>12</td>\n",
       "      <td>0.204372</td>\n",
       "      <td>False</td>\n",
       "    </tr>\n",
       "    <tr>\n",
       "      <th>1</th>\n",
       "      <td>1</td>\n",
       "      <td>0</td>\n",
       "      <td>0</td>\n",
       "      <td>FIT</td>\n",
       "      <td>0.95</td>\n",
       "      <td>0.420168</td>\n",
       "      <td>0.458824</td>\n",
       "      <td>0.458824</td>\n",
       "      <td>0.420168</td>\n",
       "      <td>0.096314</td>\n",
       "      <td>...</td>\n",
       "      <td>0.122473</td>\n",
       "      <td>0.122473</td>\n",
       "      <td>841</td>\n",
       "      <td>595</td>\n",
       "      <td>22.0</td>\n",
       "      <td>23.0</td>\n",
       "      <td>0.101120</td>\n",
       "      <td>3</td>\n",
       "      <td>0.033707</td>\n",
       "      <td>True</td>\n",
       "    </tr>\n",
       "    <tr>\n",
       "      <th>2</th>\n",
       "      <td>2</td>\n",
       "      <td>0</td>\n",
       "      <td>0</td>\n",
       "      <td>FRAUNHOFER INSTITUTE FOR APPLIED INFORMATION T...</td>\n",
       "      <td>0.99</td>\n",
       "      <td>0.057143</td>\n",
       "      <td>0.647059</td>\n",
       "      <td>0.647059</td>\n",
       "      <td>0.057143</td>\n",
       "      <td>0.196195</td>\n",
       "      <td>...</td>\n",
       "      <td>0.209275</td>\n",
       "      <td>0.209275</td>\n",
       "      <td>841</td>\n",
       "      <td>595</td>\n",
       "      <td>11.0</td>\n",
       "      <td>351.0</td>\n",
       "      <td>0.771590</td>\n",
       "      <td>59</td>\n",
       "      <td>0.013078</td>\n",
       "      <td>True</td>\n",
       "    </tr>\n",
       "    <tr>\n",
       "      <th>3</th>\n",
       "      <td>3</td>\n",
       "      <td>0</td>\n",
       "      <td>0</td>\n",
       "      <td>BLOCKCHAIN : GRUNDLAGEN, ANWENDUNGEN UND POTEN...</td>\n",
       "      <td>0.99</td>\n",
       "      <td>0.053782</td>\n",
       "      <td>0.731092</td>\n",
       "      <td>0.731092</td>\n",
       "      <td>0.053782</td>\n",
       "      <td>0.282996</td>\n",
       "      <td>...</td>\n",
       "      <td>0.335315</td>\n",
       "      <td>0.335315</td>\n",
       "      <td>841</td>\n",
       "      <td>595</td>\n",
       "      <td>44.0</td>\n",
       "      <td>403.0</td>\n",
       "      <td>3.543601</td>\n",
       "      <td>51</td>\n",
       "      <td>0.069482</td>\n",
       "      <td>True</td>\n",
       "    </tr>\n",
       "    <tr>\n",
       "      <th>4</th>\n",
       "      <td>4</td>\n",
       "      <td>0</td>\n",
       "      <td>0</td>\n",
       "      <td>White Paper</td>\n",
       "      <td>0.99</td>\n",
       "      <td>0.052101</td>\n",
       "      <td>0.149580</td>\n",
       "      <td>0.149580</td>\n",
       "      <td>0.052101</td>\n",
       "      <td>0.357907</td>\n",
       "      <td>...</td>\n",
       "      <td>0.368609</td>\n",
       "      <td>0.367420</td>\n",
       "      <td>841</td>\n",
       "      <td>595</td>\n",
       "      <td>8.0</td>\n",
       "      <td>58.0</td>\n",
       "      <td>0.092727</td>\n",
       "      <td>11</td>\n",
       "      <td>0.008430</td>\n",
       "      <td>True</td>\n",
       "    </tr>\n",
       "    <tr>\n",
       "      <th>5</th>\n",
       "      <td>5</td>\n",
       "      <td>0</td>\n",
       "      <td>0</td>\n",
       "      <td>FINTECH</td>\n",
       "      <td>0.99</td>\n",
       "      <td>0.847059</td>\n",
       "      <td>0.944538</td>\n",
       "      <td>0.944538</td>\n",
       "      <td>0.847059</td>\n",
       "      <td>0.608799</td>\n",
       "      <td>...</td>\n",
       "      <td>0.624257</td>\n",
       "      <td>0.624257</td>\n",
       "      <td>841</td>\n",
       "      <td>595</td>\n",
       "      <td>13.0</td>\n",
       "      <td>58.0</td>\n",
       "      <td>0.150681</td>\n",
       "      <td>7</td>\n",
       "      <td>0.021526</td>\n",
       "      <td>True</td>\n",
       "    </tr>\n",
       "    <tr>\n",
       "      <th>6</th>\n",
       "      <td>6</td>\n",
       "      <td>0</td>\n",
       "      <td>0</td>\n",
       "      <td>FINTECH</td>\n",
       "      <td>0.99</td>\n",
       "      <td>0.215126</td>\n",
       "      <td>0.310924</td>\n",
       "      <td>0.310924</td>\n",
       "      <td>0.215126</td>\n",
       "      <td>0.659929</td>\n",
       "      <td>...</td>\n",
       "      <td>0.677765</td>\n",
       "      <td>0.677765</td>\n",
       "      <td>841</td>\n",
       "      <td>595</td>\n",
       "      <td>15.0</td>\n",
       "      <td>57.0</td>\n",
       "      <td>0.170865</td>\n",
       "      <td>7</td>\n",
       "      <td>0.024409</td>\n",
       "      <td>True</td>\n",
       "    </tr>\n",
       "    <tr>\n",
       "      <th>7</th>\n",
       "      <td>7</td>\n",
       "      <td>0</td>\n",
       "      <td>0</td>\n",
       "      <td>Credit</td>\n",
       "      <td>0.99</td>\n",
       "      <td>0.744538</td>\n",
       "      <td>0.781513</td>\n",
       "      <td>0.781513</td>\n",
       "      <td>0.744538</td>\n",
       "      <td>0.665874</td>\n",
       "      <td>...</td>\n",
       "      <td>0.674197</td>\n",
       "      <td>0.674197</td>\n",
       "      <td>841</td>\n",
       "      <td>595</td>\n",
       "      <td>7.0</td>\n",
       "      <td>22.0</td>\n",
       "      <td>0.030776</td>\n",
       "      <td>6</td>\n",
       "      <td>0.005129</td>\n",
       "      <td>True</td>\n",
       "    </tr>\n",
       "    <tr>\n",
       "      <th>8</th>\n",
       "      <td>0</td>\n",
       "      <td>1</td>\n",
       "      <td>0</td>\n",
       "      <td>BLOCKCHAIN : GRUNDLAGEN, ANWENDUNGEN UND POTEN...</td>\n",
       "      <td>0.99</td>\n",
       "      <td>0.115966</td>\n",
       "      <td>0.791597</td>\n",
       "      <td>0.791597</td>\n",
       "      <td>0.115966</td>\n",
       "      <td>0.079667</td>\n",
       "      <td>...</td>\n",
       "      <td>0.139120</td>\n",
       "      <td>0.139120</td>\n",
       "      <td>841</td>\n",
       "      <td>595</td>\n",
       "      <td>50.0</td>\n",
       "      <td>402.0</td>\n",
       "      <td>4.016827</td>\n",
       "      <td>51</td>\n",
       "      <td>0.078761</td>\n",
       "      <td>True</td>\n",
       "    </tr>\n",
       "    <tr>\n",
       "      <th>9</th>\n",
       "      <td>1</td>\n",
       "      <td>1</td>\n",
       "      <td>0</td>\n",
       "      <td>WHITE PAPER</td>\n",
       "      <td>0.99</td>\n",
       "      <td>0.112605</td>\n",
       "      <td>0.221849</td>\n",
       "      <td>0.221849</td>\n",
       "      <td>0.112605</td>\n",
       "      <td>0.153389</td>\n",
       "      <td>...</td>\n",
       "      <td>0.161712</td>\n",
       "      <td>0.161712</td>\n",
       "      <td>841</td>\n",
       "      <td>595</td>\n",
       "      <td>7.0</td>\n",
       "      <td>65.0</td>\n",
       "      <td>0.090928</td>\n",
       "      <td>11</td>\n",
       "      <td>0.008266</td>\n",
       "      <td>True</td>\n",
       "    </tr>\n",
       "  </tbody>\n",
       "</table>\n",
       "<p>10 rows × 21 columns</p>\n",
       "</div>"
      ],
      "text/plain": [
       "   block  page  paragraph                                               text  \\\n",
       "0      0     0          0                                       7 Fraunhofer   \n",
       "1      1     0          0                                                FIT   \n",
       "2      2     0          0  FRAUNHOFER INSTITUTE FOR APPLIED INFORMATION T...   \n",
       "3      3     0          0  BLOCKCHAIN : GRUNDLAGEN, ANWENDUNGEN UND POTEN...   \n",
       "4      4     0          0                                        White Paper   \n",
       "5      5     0          0                                            FINTECH   \n",
       "6      6     0          0                                            FINTECH   \n",
       "7      7     0          0                                             Credit   \n",
       "8      0     1          0  BLOCKCHAIN : GRUNDLAGEN, ANWENDUNGEN UND POTEN...   \n",
       "9      1     1          0                                        WHITE PAPER   \n",
       "\n",
       "   confidence  x1-block  x2-block  x3-block  x4-block  y1-block  ...  \\\n",
       "0        0.92  0.070588  0.467227  0.467227  0.070588  0.036861  ...   \n",
       "1        0.95  0.420168  0.458824  0.458824  0.420168  0.096314  ...   \n",
       "2        0.99  0.057143  0.647059  0.647059  0.057143  0.196195  ...   \n",
       "3        0.99  0.053782  0.731092  0.731092  0.053782  0.282996  ...   \n",
       "4        0.99  0.052101  0.149580  0.149580  0.052101  0.357907  ...   \n",
       "5        0.99  0.847059  0.944538  0.944538  0.847059  0.608799  ...   \n",
       "6        0.99  0.215126  0.310924  0.310924  0.215126  0.659929  ...   \n",
       "7        0.99  0.744538  0.781513  0.781513  0.744538  0.665874  ...   \n",
       "8        0.99  0.115966  0.791597  0.791597  0.115966  0.079667  ...   \n",
       "9        0.99  0.112605  0.221849  0.221849  0.112605  0.153389  ...   \n",
       "\n",
       "   y3-block  y4-block  height  width  block_height  block_width  block_area  \\\n",
       "0  0.098692  0.098692     841    595          52.0        236.0    2.452463   \n",
       "1  0.122473  0.122473     841    595          22.0         23.0    0.101120   \n",
       "2  0.209275  0.209275     841    595          11.0        351.0    0.771590   \n",
       "3  0.335315  0.335315     841    595          44.0        403.0    3.543601   \n",
       "4  0.368609  0.367420     841    595           8.0         58.0    0.092727   \n",
       "5  0.624257  0.624257     841    595          13.0         58.0    0.150681   \n",
       "6  0.677765  0.677765     841    595          15.0         57.0    0.170865   \n",
       "7  0.674197  0.674197     841    595           7.0         22.0    0.030776   \n",
       "8  0.139120  0.139120     841    595          50.0        402.0    4.016827   \n",
       "9  0.161712  0.161712     841    595           7.0         65.0    0.090928   \n",
       "\n",
       "   text_length  font_size  block_is_content  \n",
       "0           12   0.204372             False  \n",
       "1            3   0.033707              True  \n",
       "2           59   0.013078              True  \n",
       "3           51   0.069482              True  \n",
       "4           11   0.008430              True  \n",
       "5            7   0.021526              True  \n",
       "6            7   0.024409              True  \n",
       "7            6   0.005129              True  \n",
       "8           51   0.078761              True  \n",
       "9           11   0.008266              True  \n",
       "\n",
       "[10 rows x 21 columns]"
      ]
     },
     "execution_count": 21,
     "metadata": {},
     "output_type": "execute_result"
    }
   ],
   "source": [
    "document_text.head(10)"
   ]
  },
  {
   "cell_type": "code",
   "execution_count": null,
   "metadata": {},
   "outputs": [],
   "source": [
    "# Categorize Pages: Title, Author, Copyright, Disclaimer, Content\n",
    "# Use Semantic API\n",
    "# Analyse Text length or paragraph length"
   ]
  },
  {
   "cell_type": "markdown",
   "metadata": {},
   "source": [
    "### Klassifiziere Seiten"
   ]
  },
  {
   "cell_type": "code",
   "execution_count": null,
   "metadata": {},
   "outputs": [],
   "source": [
    "# Categorize paragraphs: Headline, Copy, Misc."
   ]
  },
  {
   "cell_type": "markdown",
   "metadata": {},
   "source": [
    "Kategorisierung der Seiten: Titelseite, Content-Seite, Disclaimer, Bild"
   ]
  },
  {
   "cell_type": "markdown",
   "metadata": {},
   "source": [
    "Aggregation aller Textparagraphen auf einer Seite zu einem Text. Anschließend Analyse dieser Texte und extrakt."
   ]
  },
  {
   "cell_type": "code",
   "execution_count": 22,
   "metadata": {},
   "outputs": [],
   "source": [
    "document_pages_df = document_text.groupby(['page']).agg({\n",
    "    'block': 'max',\n",
    "    'text_length': 'sum',\n",
    "    'text': lambda x: x.str.cat(sep=' ')})"
   ]
  },
  {
   "cell_type": "markdown",
   "metadata": {},
   "source": [
    "Textlänge in %"
   ]
  },
  {
   "cell_type": "code",
   "execution_count": 23,
   "metadata": {},
   "outputs": [],
   "source": [
    "document_pages_df['page_text_length_perc']= document_pages_df['text_length']/document_pages_df['text_length'].sum()"
   ]
  },
  {
   "cell_type": "markdown",
   "metadata": {},
   "source": [
    "Klassifiziere Pages anhand fester Regeln: Erste Seite ist Titel, Seiten mit unter 1% Textanteil sind nur Bild"
   ]
  },
  {
   "cell_type": "code",
   "execution_count": 24,
   "metadata": {},
   "outputs": [],
   "source": [
    "document_pages_df['page_class'] = \"\""
   ]
  },
  {
   "cell_type": "code",
   "execution_count": 25,
   "metadata": {},
   "outputs": [],
   "source": [
    "document_pages_df.loc[document_pages_df.page_text_length_perc < 0.01, 'page_class'] = 'empty'"
   ]
  },
  {
   "cell_type": "code",
   "execution_count": 26,
   "metadata": {},
   "outputs": [],
   "source": [
    "document_pages_df.loc[0, 'page_class'] = 'title'"
   ]
  },
  {
   "cell_type": "markdown",
   "metadata": {},
   "source": [
    "Get Topics per Page"
   ]
  },
  {
   "cell_type": "markdown",
   "metadata": {},
   "source": [
    "Klassifiziere Legal-Seiten (Disclaimer, etc.)"
   ]
  },
  {
   "cell_type": "code",
   "execution_count": 27,
   "metadata": {},
   "outputs": [],
   "source": [
    "#pip install textrazor\n",
    "import textrazor\n",
    "textrazor.api_key = \"726511cf75ca2a4ea269cbf8a44c2b3773e5b805e05a9c82e35a98fc\"\n",
    "\n",
    "client = textrazor.TextRazor(extractors=[\"topics\"])\n",
    "page_topics = []\n",
    "\n",
    "for page in document_pages_df.index:\n",
    "    text = document_pages_df.loc[page, 'text']\n",
    "    response = client.analyze(text)\n",
    "    page_topics.append(json_normalize(response.json['response'], 'topics')[:15])\n",
    "    #response = client.analyze(document_pages_df.loc[page, 'text'])"
   ]
  },
  {
   "cell_type": "code",
   "execution_count": 28,
   "metadata": {},
   "outputs": [],
   "source": [
    "# Loop durch alle topics pro seite und aufsummieren der scores für Law-Labels\n",
    "\n",
    "legal_pages = []\n",
    "cols = ['page', 'score']\n",
    "\n",
    "for page in document_pages_df.index:\n",
    "    vals = []\n",
    "    vals.append(page)\n",
    "    vals.append(page_topics[page].query(\"label == 'Private law' | label == 'Common law'\")['score'].sum())\n",
    "    \n",
    "    legal_pages.append(dict(zip(cols, vals)))\n",
    "\n",
    "legal_pages = pd.DataFrame(legal_pages).query('score > 0')['page']\n"
   ]
  },
  {
   "cell_type": "code",
   "execution_count": 29,
   "metadata": {},
   "outputs": [],
   "source": [
    "document_pages_df.loc[legal_pages, 'page_class'] = 'legal'"
   ]
  },
  {
   "cell_type": "code",
   "execution_count": 30,
   "metadata": {},
   "outputs": [],
   "source": [
    "# Identify Page with ToC\n",
    "toc_page = document_text[['text', 'page']].copy()\n",
    "toc_page['text'] = toc_page['text'].str.lower()\n",
    "toc_page = toc_page.query(\"text == 'table of contents' | text == 'table of content' | text == 'inhalt' | text == 'inhaltsverzeichnis' | text == 'content'\")['page']"
   ]
  },
  {
   "cell_type": "code",
   "execution_count": 31,
   "metadata": {},
   "outputs": [],
   "source": [
    "document_pages_df.loc[toc_page, 'page_class'] = 'toc'"
   ]
  },
  {
   "cell_type": "code",
   "execution_count": 32,
   "metadata": {},
   "outputs": [],
   "source": [
    "# Alles andere als Content"
   ]
  },
  {
   "cell_type": "code",
   "execution_count": 33,
   "metadata": {},
   "outputs": [],
   "source": [
    "document_pages_df.loc[document_pages_df.page_class == \"\", 'page_class'] = \"content\""
   ]
  },
  {
   "cell_type": "code",
   "execution_count": 34,
   "metadata": {},
   "outputs": [],
   "source": [
    "document_pages_df = document_pages_df.reset_index()"
   ]
  },
  {
   "cell_type": "code",
   "execution_count": 35,
   "metadata": {},
   "outputs": [],
   "source": [
    "document_pages_df = document_pages_df[['page_class', 'page', 'page_text_length_perc']]"
   ]
  },
  {
   "cell_type": "code",
   "execution_count": 36,
   "metadata": {},
   "outputs": [],
   "source": [
    "document_text = document_text.merge(document_pages_df, on = 'page')"
   ]
  },
  {
   "cell_type": "code",
   "execution_count": 37,
   "metadata": {},
   "outputs": [],
   "source": [
    "document_content = document_text.query(\"block_is_content == True & (page_class == 'content' | page_class == 'title')\")"
   ]
  },
  {
   "cell_type": "markdown",
   "metadata": {},
   "source": [
    "### Extract Metadata"
   ]
  },
  {
   "cell_type": "markdown",
   "metadata": {},
   "source": [
    "#### Erstellungsdatum"
   ]
  },
  {
   "cell_type": "code",
   "execution_count": null,
   "metadata": {},
   "outputs": [],
   "source": [
    "#pip install pypdf2"
   ]
  },
  {
   "cell_type": "code",
   "execution_count": 38,
   "metadata": {},
   "outputs": [],
   "source": [
    "from PyPDF2 import PdfFileReader"
   ]
  },
  {
   "cell_type": "code",
   "execution_count": 39,
   "metadata": {},
   "outputs": [],
   "source": [
    "def get_pdf_info(path):\n",
    "    with open(path, 'rb') as f:\n",
    "        pdf = PdfFileReader(f)\n",
    "        info = pdf.getDocumentInfo()\n",
    "        number_of_pages = pdf.getNumPages()\n",
    "  \n",
    "    author = info.author\n",
    "    creator = info.creator\n",
    "    producer = info.producer\n",
    "    subject = info.subject\n",
    "    title = info.title"
   ]
  },
  {
   "cell_type": "code",
   "execution_count": 40,
   "metadata": {},
   "outputs": [
    {
     "name": "stderr",
     "output_type": "stream",
     "text": [
      "PdfReadWarning: Xref table not zero-indexed. ID numbers for objects will be corrected. [pdf.py:1736]\n"
     ]
    }
   ],
   "source": [
    "fp = open('2/'+pdf_files, 'rb')\n",
    "\n",
    "pdfFile = PdfFileReader(fp)\n",
    "if pdfFile.isEncrypted:\n",
    "    try:\n",
    "        pdfFile.decrypt('')\n",
    "        print('File Decrypted (PyPDF2)')\n",
    "    except:\n",
    "        command = (\"cp \"+ filename +\n",
    "            \" temp.pdf; qpdf --password='' --decrypt temp.pdf \" + filename\n",
    "            + \"; rm temp.pdf\")\n",
    "        os.system(command)\n",
    "        print('File Decrypted (qpdf)')\n",
    "        fp = open(filename)\n",
    "        pdfFile = PdfFileReader(fp)\n",
    "        info = pdfFile.getDocumentInfo()\n",
    "else:\n",
    "        info = pdfFile.getDocumentInfo()\n",
    "    \n",
    "    \n",
    "\n",
    "\n"
   ]
  },
  {
   "cell_type": "code",
   "execution_count": 41,
   "metadata": {},
   "outputs": [
    {
     "data": {
      "text/plain": [
       "'2018-01-09'"
      ]
     },
     "execution_count": 41,
     "metadata": {},
     "output_type": "execute_result"
    }
   ],
   "source": [
    "# Datum\n",
    "from datetime import datetime\n",
    "date = datetime.strptime(info['/CreationDate'][2:16], '%Y%m%d%H%M%S').strftime('%Y-%m-%d')\n",
    "date"
   ]
  },
  {
   "cell_type": "code",
   "execution_count": 42,
   "metadata": {},
   "outputs": [
    {
     "data": {
      "text/plain": [
       "''"
      ]
     },
     "execution_count": 42,
     "metadata": {},
     "output_type": "execute_result"
    }
   ],
   "source": [
    "# Autor\n",
    "try:\n",
    "    author = info['/Author']\n",
    "except:\n",
    "    author = \"\"\n",
    "\n",
    "author"
   ]
  },
  {
   "cell_type": "markdown",
   "metadata": {},
   "source": [
    "#### Title"
   ]
  },
  {
   "cell_type": "code",
   "execution_count": 43,
   "metadata": {},
   "outputs": [],
   "source": [
    "# Find title:\n",
    "headline_index = document_text.sort_values('font_size', ascending = False).query(\"page_class == 'title' & text_length > 15\").head(1).index.values[0]"
   ]
  },
  {
   "cell_type": "code",
   "execution_count": 44,
   "metadata": {},
   "outputs": [],
   "source": [
    "title = document_text.iloc[headline_index]['text'].title()"
   ]
  },
  {
   "cell_type": "code",
   "execution_count": 45,
   "metadata": {},
   "outputs": [
    {
     "data": {
      "text/plain": [
       "'Blockchain : Grundlagen, Anwendungen Und Potenziale'"
      ]
     },
     "execution_count": 45,
     "metadata": {},
     "output_type": "execute_result"
    }
   ],
   "source": [
    "title"
   ]
  },
  {
   "cell_type": "markdown",
   "metadata": {},
   "source": [
    "#### Main copies"
   ]
  },
  {
   "cell_type": "code",
   "execution_count": 72,
   "metadata": {},
   "outputs": [],
   "source": [
    "# Find copies "
   ]
  },
  {
   "cell_type": "code",
   "execution_count": 46,
   "metadata": {},
   "outputs": [],
   "source": [
    "total_words = document_content.sort_values('text_length', ascending = False)['text_length'].sum()\n",
    "\n",
    "# take paragraphs until 80% of Word Count is reached\n",
    "\n",
    "word_threshold = round(total_words * 0.80)\n",
    "\n",
    "main_copies_index = word_threshold > document_content.sort_values('text_length', ascending = False)['text_length'].cumsum()"
   ]
  },
  {
   "cell_type": "code",
   "execution_count": 47,
   "metadata": {},
   "outputs": [],
   "source": [
    "main_copies_df = document_content.sort_values('text_length', ascending = False)[main_copies_index]"
   ]
  },
  {
   "cell_type": "code",
   "execution_count": 48,
   "metadata": {},
   "outputs": [],
   "source": [
    "main_copies_df = main_copies_df.sort_values(['page', 'block', 'paragraph'], ascending = True)"
   ]
  },
  {
   "cell_type": "code",
   "execution_count": 49,
   "metadata": {},
   "outputs": [],
   "source": [
    "main_copies_text = main_copies_df['text'].str.cat()"
   ]
  },
  {
   "cell_type": "markdown",
   "metadata": {},
   "source": [
    "#### Long description"
   ]
  },
  {
   "cell_type": "code",
   "execution_count": null,
   "metadata": {},
   "outputs": [],
   "source": [
    "# Create text excerpt"
   ]
  },
  {
   "cell_type": "code",
   "execution_count": 50,
   "metadata": {},
   "outputs": [],
   "source": [
    "# First n words of main copies\n",
    "import textwrap\n",
    "n = 3000\n",
    "long_description = textwrap.shorten(main_copies_text, n)"
   ]
  },
  {
   "cell_type": "markdown",
   "metadata": {},
   "source": [
    "#### Short description"
   ]
  },
  {
   "cell_type": "code",
   "execution_count": null,
   "metadata": {},
   "outputs": [],
   "source": [
    "# Bei SSL-Problemen:\n",
    "#pip uninstall pyOpenSSL -y"
   ]
  },
  {
   "cell_type": "code",
   "execution_count": 51,
   "metadata": {},
   "outputs": [],
   "source": [
    "import requests\n",
    "meaningcloud_license_key = 'c0ece6dcd78b7f84e02870ab2c92ebb4'\n",
    "\n",
    "url = \"https://api.meaningcloud.com/summarization-1.0\"\n",
    "\n",
    "#text = re.sub('[^A-Za-züÜäÄöÖß0-9\\s\\.,]+', '', main_copies_text)\n",
    "#text = re.sub('[^A-Za-z0-9\\s\\.,]+', '', main_copies_text)\n",
    "text = main_copies_text\n",
    "\n",
    "summary_length = str(3)\n",
    "\n",
    "payload = str(\"key=\"+license_key+\"&txt=\"+text+\"&sentences=\"+summary_length).encode('utf-8')\n",
    "headers = {'content-type': 'application/x-www-form-urlencoded'}\n",
    "\n",
    "try:\n",
    "    # We are going to make a request to the Topics Extraction API\n",
    "    response = requests.request(\"POST\", url, data=payload, headers=headers)\n",
    "    short_description = response.json()['summary']\n",
    "    \n",
    "except:\n",
    "    print(response.json()['status']['msg'])\n"
   ]
  },
  {
   "cell_type": "markdown",
   "metadata": {},
   "source": [
    "#### Topics"
   ]
  },
  {
   "cell_type": "code",
   "execution_count": null,
   "metadata": {},
   "outputs": [],
   "source": [
    "#import textrazor\n",
    "#textrazor.api_key = \"726511cf75ca2a4ea269cbf8a44c2b3773e5b805e05a9c82e35a98fc\"\n",
    "\n",
    "#client = textrazor.TextRazor(extractors=[\"topics\"])\n",
    "#response = client.analyze(main_copies_text)\n",
    "#topics = json_normalize(response.json['response'], 'topics').query('score > 0.9')[:10]['label']"
   ]
  },
  {
   "cell_type": "code",
   "execution_count": null,
   "metadata": {},
   "outputs": [],
   "source": [
    "# Nimm alle page topics von pages die als content oder titel markiert sind"
   ]
  },
  {
   "cell_type": "code",
   "execution_count": 52,
   "metadata": {},
   "outputs": [],
   "source": [
    "content_pages_index = document_text.query(\"page_class == 'title' | page_class == 'content'\")['page'].unique()\n",
    "\n",
    "#content_topics = [dict(zip(document_pages_df[['page', 'page_text_length_perc']], page_topics)) for i in content_pages_index]\n"
   ]
  },
  {
   "cell_type": "code",
   "execution_count": 53,
   "metadata": {},
   "outputs": [
    {
     "data": {
      "text/plain": [
       "array([ 0,  2,  4,  5,  6,  7,  8,  9, 10, 11, 12, 13, 14, 15, 16, 17, 18,\n",
       "       19])"
      ]
     },
     "execution_count": 53,
     "metadata": {},
     "output_type": "execute_result"
    }
   ],
   "source": [
    "content_pages_index"
   ]
  },
  {
   "cell_type": "code",
   "execution_count": 54,
   "metadata": {},
   "outputs": [],
   "source": [
    "content_topics = [page_topics[i] for i in content_pages_index]"
   ]
  },
  {
   "cell_type": "code",
   "execution_count": 55,
   "metadata": {},
   "outputs": [],
   "source": [
    "content_topics = pd.concat(content_topics, keys = content_pages_index ).reset_index()"
   ]
  },
  {
   "cell_type": "code",
   "execution_count": 56,
   "metadata": {},
   "outputs": [],
   "source": [
    "content_topics['page'] = content_topics['level_0']"
   ]
  },
  {
   "cell_type": "code",
   "execution_count": 57,
   "metadata": {},
   "outputs": [],
   "source": [
    "content_topics = content_topics[['page', 'label', 'score']]"
   ]
  },
  {
   "cell_type": "code",
   "execution_count": 58,
   "metadata": {},
   "outputs": [],
   "source": [
    "content_topics = content_topics.merge(document_pages_df[['page', 'page_text_length_perc']], on = 'page')"
   ]
  },
  {
   "cell_type": "code",
   "execution_count": 59,
   "metadata": {},
   "outputs": [],
   "source": [
    "content_topics['topic_weight'] = content_topics['score'] * content_topics['page_text_length_perc']"
   ]
  },
  {
   "cell_type": "code",
   "execution_count": 60,
   "metadata": {},
   "outputs": [],
   "source": [
    "content_topics = (content_topics\n",
    "                  .groupby('label')\n",
    "                  .agg({'topic_weight': 'sum'})\n",
    "                  .sort_values('topic_weight', ascending = False)\n",
    "                  .reset_index()[:15])"
   ]
  },
  {
   "cell_type": "code",
   "execution_count": 61,
   "metadata": {},
   "outputs": [],
   "source": [
    "topics = content_topics[:10]"
   ]
  },
  {
   "cell_type": "markdown",
   "metadata": {},
   "source": [
    "### Summary"
   ]
  },
  {
   "cell_type": "code",
   "execution_count": 62,
   "metadata": {},
   "outputs": [
    {
     "data": {
      "text/plain": [
       "'Blockchain : Grundlagen, Anwendungen Und Potenziale'"
      ]
     },
     "execution_count": 62,
     "metadata": {},
     "output_type": "execute_result"
    }
   ],
   "source": [
    "title"
   ]
  },
  {
   "cell_type": "code",
   "execution_count": 63,
   "metadata": {},
   "outputs": [
    {
     "data": {
      "text/plain": [
       "'Längst ist die Blockchain mehr als nur die Technologie hinter der Kryptowährung Bitcoin. Grundsätzlich ist die Blockchain ein elektronisches Register für digitale Datensätze, Ereignisse oder Transaktionen, die durch die Teilnehmer eines verteilten Rechnernetzes verwaltet werden. [...] in den Transaktionen inkludier-ten Transaktionsgebühren für jeden gefundenen Block, der in die Blockchain aufgenommen wird, eine gewisse Anzahl anZudem können Systeme darin unterschieden werden, auf welche Weise ein Konsens über den Systemstatus erreicht wird.'"
      ]
     },
     "execution_count": 63,
     "metadata": {},
     "output_type": "execute_result"
    }
   ],
   "source": [
    "short_description"
   ]
  },
  {
   "cell_type": "code",
   "execution_count": 64,
   "metadata": {},
   "outputs": [
    {
     "data": {
      "text/plain": [
       "'Längst ist die Blockchain mehr als nur die Technologie hinter der Kryptowährung Bitcoin. Vielmehr wird die Technologie mittlerweile als die eigentliche Innovation erachtet, die Experten zufolge das Potenzial hat, etliche Bereiche der Gesellschaft, die weit über das Gebiet digitaler Währungen hinausgehen, zu verändern. Nicht zuletzt aufgrund der vielfältigen Einsatzmöglich keiten rückt sie zunehmend in den Fokus der Öffentlichkeit. Grundsätzlich ist die Blockchain ein elektronisches Register für digitale Datensätze, Ereignisse oder Transaktionen, die durch die Teilnehmer eines verteilten Rechnernetzes verwaltet werden. Im Rahmen der vorliegenden Studie werden Status Quo der Forschung aufgearbeitet, eine the oretische Einordung der Technologie vorgenommen, Blockchain-Anwendungen untersucht so wie die aktuellen Entwicklungen in der Praxis analysiert. Dazu hat das Fraunhofer FIT und seine Projektgruppe Wirtschaftsinformatik unter anderem eine Marktanalyse von Blockchain-Startups durchgeführt. Die Studie zeigt, dass die meisten aktuellen Anwendungen auf der Blockchain als manipulationssichere Datenstruktur und System zum Werttransfer aufbauen und hauptsächlich im Finanzsektor eingesetzt werden. Weitere Anwendungsbereiche sind aber auch in der Industrie, dem öffentlichen und juristischen Sektor sowie im Internet der Dinge zu finden. Zusätzlich zur Vorstellung der Blockchain-Grundkonzepte, der unterschiedlichen Blockchain-Ein satzgebiete und der detaillierten Erläuterung verschiedener Blockchain-Anwendungen wurden Potentiale und Risiken der Blockchain sowie Hindernisse und Empfehlungen bei der Implemen tierung untersucht. Potentiale sieht die Forschung insbesondere in der hohen Datenintegrität, der großen Transparenz und der Programmierbarkeit von Transaktionen das Potential von Blockchain-Lösungen. Unter anderem werden die aktuellen Probleme hinsichtlich Skalierbarkeit, mangelnder Interoperabilität von Blockchain-Systemen und der hohe Energiekonsum einiger Konsensmechanismen als Risiken und Hindernisse bei der Einführung angeführt. Als Empfeh lungen hinsichtlich Blockchain-Implementierungen ist der Literatur und aktuellen Praxisstudien zu entnehmen, dass die Kollaboration zwischen Unternehmen bzw. sogar branchenweite Kon sortien als zielführend erachtet wird. Des Weiteren wird empfohlen bei Blockchain-Projekten auf spezifische Anwendungsbereiche zu fokussieren, um die Charakteristika und Vorteile und Nachteile der Technologie je Geschäftsfeld evaluieren zu können. Fortschritte in der Entwicklung von Informations-und Kommunikationstechnologien sowie des Internets haben in den vergangenen Jahrzehnten eine Reihe an Innovationen ermöglicht, die einen großen Einfluss auf nahezu jeden Bereich der Gesellschaft haben (Loader und Dutton 2012 ). Besonders das 21. Jahrhundert hat eine Vielzahl disruptiver Innovationen hervorgebracht (Peters und Panayi 2015 ). Wie Christensen (1997) dargelegt hat, haben disruptive Innovationen das Potenzial, traditionelle [...]'"
      ]
     },
     "execution_count": 64,
     "metadata": {},
     "output_type": "execute_result"
    }
   ],
   "source": [
    "long_description"
   ]
  },
  {
   "cell_type": "code",
   "execution_count": 65,
   "metadata": {},
   "outputs": [
    {
     "data": {
      "text/html": [
       "<div>\n",
       "<style scoped>\n",
       "    .dataframe tbody tr th:only-of-type {\n",
       "        vertical-align: middle;\n",
       "    }\n",
       "\n",
       "    .dataframe tbody tr th {\n",
       "        vertical-align: top;\n",
       "    }\n",
       "\n",
       "    .dataframe thead th {\n",
       "        text-align: right;\n",
       "    }\n",
       "</style>\n",
       "<table border=\"1\" class=\"dataframe\">\n",
       "  <thead>\n",
       "    <tr style=\"text-align: right;\">\n",
       "      <th></th>\n",
       "      <th>label</th>\n",
       "      <th>topic_weight</th>\n",
       "    </tr>\n",
       "  </thead>\n",
       "  <tbody>\n",
       "    <tr>\n",
       "      <th>0</th>\n",
       "      <td>Computing</td>\n",
       "      <td>0.809215</td>\n",
       "    </tr>\n",
       "    <tr>\n",
       "      <th>1</th>\n",
       "      <td>Technology</td>\n",
       "      <td>0.709845</td>\n",
       "    </tr>\n",
       "    <tr>\n",
       "      <th>2</th>\n",
       "      <td>Information technology management</td>\n",
       "      <td>0.621517</td>\n",
       "    </tr>\n",
       "    <tr>\n",
       "      <th>3</th>\n",
       "      <td>Blockchain</td>\n",
       "      <td>0.600401</td>\n",
       "    </tr>\n",
       "    <tr>\n",
       "      <th>4</th>\n",
       "      <td>Bitcoin</td>\n",
       "      <td>0.589768</td>\n",
       "    </tr>\n",
       "    <tr>\n",
       "      <th>5</th>\n",
       "      <td>Financial cryptography</td>\n",
       "      <td>0.584562</td>\n",
       "    </tr>\n",
       "    <tr>\n",
       "      <th>6</th>\n",
       "      <td>Blockchains</td>\n",
       "      <td>0.544899</td>\n",
       "    </tr>\n",
       "    <tr>\n",
       "      <th>7</th>\n",
       "      <td>Areas of computer science</td>\n",
       "      <td>0.502687</td>\n",
       "    </tr>\n",
       "    <tr>\n",
       "      <th>8</th>\n",
       "      <td>Information technology</td>\n",
       "      <td>0.497081</td>\n",
       "    </tr>\n",
       "    <tr>\n",
       "      <th>9</th>\n",
       "      <td>Cryptocurrencies</td>\n",
       "      <td>0.425044</td>\n",
       "    </tr>\n",
       "  </tbody>\n",
       "</table>\n",
       "</div>"
      ],
      "text/plain": [
       "                               label  topic_weight\n",
       "0                          Computing      0.809215\n",
       "1                         Technology      0.709845\n",
       "2  Information technology management      0.621517\n",
       "3                         Blockchain      0.600401\n",
       "4                            Bitcoin      0.589768\n",
       "5             Financial cryptography      0.584562\n",
       "6                        Blockchains      0.544899\n",
       "7          Areas of computer science      0.502687\n",
       "8             Information technology      0.497081\n",
       "9                   Cryptocurrencies      0.425044"
      ]
     },
     "execution_count": 65,
     "metadata": {},
     "output_type": "execute_result"
    }
   ],
   "source": [
    "topics"
   ]
  },
  {
   "cell_type": "code",
   "execution_count": 66,
   "metadata": {},
   "outputs": [
    {
     "data": {
      "text/plain": [
       "''"
      ]
     },
     "execution_count": 66,
     "metadata": {},
     "output_type": "execute_result"
    }
   ],
   "source": [
    "author"
   ]
  },
  {
   "cell_type": "code",
   "execution_count": 67,
   "metadata": {},
   "outputs": [
    {
     "data": {
      "text/plain": [
       "'2018-01-09'"
      ]
     },
     "execution_count": 67,
     "metadata": {},
     "output_type": "execute_result"
    }
   ],
   "source": [
    "date"
   ]
  },
  {
   "cell_type": "code",
   "execution_count": null,
   "metadata": {},
   "outputs": [],
   "source": []
  },
  {
   "cell_type": "code",
   "execution_count": null,
   "metadata": {},
   "outputs": [],
   "source": []
  },
  {
   "cell_type": "code",
   "execution_count": null,
   "metadata": {},
   "outputs": [],
   "source": []
  },
  {
   "cell_type": "code",
   "execution_count": null,
   "metadata": {},
   "outputs": [],
   "source": [
    "! rm data/*.json\n",
    "! gsutil rm gs://mastertradr-pdf-extraction/json/*"
   ]
  }
 ],
 "metadata": {
  "kernelspec": {
   "display_name": "Python 3",
   "language": "python",
   "name": "python3"
  },
  "language_info": {
   "codemirror_mode": {
    "name": "ipython",
    "version": 3
   },
   "file_extension": ".py",
   "mimetype": "text/x-python",
   "name": "python",
   "nbconvert_exporter": "python",
   "pygments_lexer": "ipython3",
   "version": "3.5.3"
  }
 },
 "nbformat": 4,
 "nbformat_minor": 2
}